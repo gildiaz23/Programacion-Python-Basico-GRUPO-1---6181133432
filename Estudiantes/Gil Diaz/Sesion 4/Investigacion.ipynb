{
 "cells": [
  {
   "cell_type": "markdown",
   "metadata": {},
   "source": [
    "# Investigación: Exploración Teórica y Aplicación Práctica de las Funciones en Python\n",
    "\n",
    "## Programacion Python Basico | ICAI\n",
    "\n",
    "## Profesor: Ing. Andrés Mena Abarca\n",
    "\n",
    "### **Nombre del estudiante: Gil Diaz A**\n",
    " \n",
    "* * *\n",
    "\n",
    "## <mark>**Sección 1: Introducción**<mark>\n",
    "\n",
    "## **Introducción**\n",
    "\n",
    "\n",
    "El propósito del siguiente notebook es explicar y ejemplificar las distintas aplicaciones y funciones que puede tener Python en cualquier area en la que se implemente y el gran impacto que beneficios que puede tener su uso.\n",
    "\n",
    "## **Importancia de Funciones de Python**\n",
    "\n",
    "Python y ciencia de datos están relacionados de manera profunda y multifacética. La ciencia de datos, que abarca la extracción de conocimientos y patrones útiles de grandes volúmenes de datos, requiere una herramienta que sea versátil y poderosa, además de accesible para profesionales de diversos conocimientos previos. Y Python cumple con estos requisitos a la perfección, explicando su popularidad y su adopción generalizada en la comunidad.\n",
    "\n",
    "\n",
    "\n"
   ]
  },
  {
   "cell_type": "markdown",
   "metadata": {},
   "source": [
    "## <mark>**Sección 2: Investigación  y ejemplos**<mark>\n",
    "\n",
    "### **3.1 Definición y Propósito de las Funciones en Python**\n",
    "\n",
    "### **¿Qué son las funciones?**\n",
    "\n",
    "\n",
    "Una función es un fragmento de código con un nombre asociado que realiza una serie de tareas y devuelve un valor. A los fragmentos de código que tienen un nombre asociado y no devuelven valores se les suele llamar procedimientos. En Python no existen los procedimientos, ya que cuando el programador no especifica un valor de retorno la función devuelve el valor None (nada), equivalente al null de Java. Además de ayudarnos a programar y depurar dividiendo el programa en partes las funciones también permiten reutilizar código."
   ]
  },
  {
   "cell_type": "code",
   "execution_count": 1,
   "metadata": {},
   "outputs": [],
   "source": [
    "# En Python las funciones se declaran de la siguiente forma:\n",
    "\n",
    "def mi_funcion(param1, param2):\n",
    " print(param1)\n",
    " print(param2)"
   ]
  },
  {
   "cell_type": "markdown",
   "metadata": {},
   "source": [
    "### **Beneficios de modularizar código con funciones**\n",
    "\n",
    "La modularidad en Python se refiere a la división de un programa en módulos más pequeños y manejables. Estos módulos son unidades independientes de código que se pueden desarrollar y mantener por separado. La modularidad facilita la creación y el mantenimiento de programas complejos, ya que permite dividir el código en partes más reducidas y fáciles de gestionar. Esto hace que el código sea más legible, mantenible y escalable.\n",
    "\n",
    "### *Ventajas de modularizar el código en Python*\n",
    "1-**Organización del código:** Al modularizar el código en Python, se divide en diferentes módulos, lo que facilita la organización.\\\n",
    "2-**Reutilización de código:** Modularizar el código en Python también permite la reutilización de código. Cuando se crea una función o un conjunto de funciones en un módulo, se pueden importar y utilizar en otros lugares de nuestro código o incluso en otros proyectos.\\\n",
    "3-**Colaboración efectiva:** En proyectos de desarrollo de software en equipo, modularizar el código en Python es fundamental. Cada miembro del equipo puede trabajar en módulos específicos sin afectar al trabajo de los demás. Esto facilita la colaboración y acelera el proceso de desarrollo.\n"
   ]
  },
  {
   "cell_type": "markdown",
   "metadata": {},
   "source": [
    "### **Importancia de la reutilización del código**\n",
    "\n",
    "La reutilización de código en Python ofrece varios beneficios significativos:\n",
    "\n",
    "**Ahorro de tiempo:** no es necesario volver a escribir código existente, lo que acelera el desarrollo de aplicaciones.\\\n",
    "**Reducción de errores:**** al utilizar código probado y depurado previamente, se reducen los errores potenciales en el nuevo proyecto.\\\n",
    "**Mantenibilidad:** los cambios y actualizaciones en el código pueden aplicarse de manera centralizada en lugar de en múltiples lugares dispersos.\\\n",
    "**Organización:** la programación modular y la creación de clases ayudan a organizar el código de manera más estructurada y comprensible.\\\n",
    "**Mejora de la colaboración:** varias personas pueden trabajar en un proyecto de manera más efectiva al utilizar código reutilizable."
   ]
  },
  {
   "cell_type": "markdown",
   "metadata": {},
   "source": [
    "## **3.2 Tipos de Funciones en Python**\n",
    "\n",
    "### **Funciones con y sin retorno**\n",
    "\n",
    "**Funciones retorno**: Las funciones de retorno en Python son bloques de código que realizan tareas específicas y luego devuelven un valor o conjunto de valores al lugar donde fueron llamadas"
   ]
  },
  {
   "cell_type": "code",
   "execution_count": 16,
   "metadata": {},
   "outputs": [],
   "source": [
    "#En Python, se utiliza la instrucción return para especificar qué valor debe ser devuelto por la función. Aquí tienes un ejemplo sencillo de una función que calcula la suma de dos números:\n",
    "\n",
    "def suma(a, b): \n",
    "       resultado = a + b \n",
    "       return resultado"
   ]
  },
  {
   "cell_type": "markdown",
   "metadata": {},
   "source": [
    "**Funciones sin retorno:** Las funciones que no devuelven resultados, también conocidas como funciones void, son una parte esencial de cualquier lenguaje de programación. Estas funciones se utilizan cuando se desea realizar una tarea específica sin necesidad de obtener un valor de retorno. Un ejemplo común de una función que no devuelve resultados es la función que imprime un mensaje en la consola."
   ]
  },
  {
   "cell_type": "code",
   "execution_count": 17,
   "metadata": {},
   "outputs": [
    {
     "name": "stdout",
     "output_type": "stream",
     "text": [
      "¡Hola, mundo!\n"
     ]
    }
   ],
   "source": [
    "def saludar(): \n",
    "       print(\"¡Hola, mundo!\") \n",
    "\n",
    "saludar()"
   ]
  },
  {
   "cell_type": "markdown",
   "metadata": {},
   "source": [
    "### **Funciones con parámetros y valores predeterminados**\n",
    "\n",
    "Las funciones en Python se crean usando la palabra clave def, seguida de un nombre de función y parámetros de función entre paréntesis. Una función siempre devuelve un valor. La función utiliza la palabra clave return  para devolver un valor; si no desea devolver ningún valor, se devolverá el valor predeterminado None. Puedes definir valores predeterminados para los parámetros, de esa manera Python interpretará que el valor de ese parámetro es el predeterminado si no se proporciona ninguno."
   ]
  },
  {
   "cell_type": "code",
   "execution_count": 18,
   "metadata": {},
   "outputs": [],
   "source": [
    "# función sin parámetros o retorno de valores\n",
    "def diHola():\n",
    "  print(\"Hello!\")\n",
    "\n",
    "diHola()  # llamada a la función, 'Hello!' se muestra en la consola\n",
    "\n",
    "# función con un parámetro\n",
    "def holaConNombre(name):\n",
    "  print(\"Hello \" + name + \"!\")\n",
    "\n",
    "holaConNombre(\"Ada\")  # llamada a la función, 'Hello Ada!' se muestra en la consola\n",
    "\n",
    "# función con múltiples parámetros con una sentencia de retorno\n",
    "def multiplica(val1, val2):\n",
    "  return val1 * val2\n",
    "\n",
    "multiplica(3, 5)  # muestra 15 en la consola"
   ]
  },
  {
   "cell_type": "markdown",
   "metadata": {},
   "source": [
    "### **Uso de args y kwargs**\n",
    "\n",
    "**args:** Gracias a los *args en Python, podemos definir funciones cuyo número de argumentos es variable. Es decir, podemos definir funciones genéricas que no aceptan un número determinado de parámetros, sino que se “adaptan” al número de argumentos con los que son llamados."
   ]
  },
  {
   "cell_type": "code",
   "execution_count": null,
   "metadata": {},
   "outputs": [],
   "source": [
    "def suma(*args):\n",
    "    s = 0\n",
    "    for arg in args:\n",
    "        s += arg\n",
    "    return s\n",
    "\n",
    "suma(1, 3, 4, 2)\n",
    "#Salida 10\n",
    "\n",
    "suma(1, 1)\n",
    "#Salida 2"
   ]
  },
  {
   "cell_type": "markdown",
   "metadata": {},
   "source": [
    "**kwards:** Al igual que en *args, en **kwargs el nombre es una mera convención entre los usuarios de Python. Puedes usar cualquier otro nombre siempre y cuando respetes el **. A diferencia de *args, los **kwargs nos permiten dar un nombre a cada argumento de entrada, pudiendo acceder a ellos dentro de la función a través de un diccionario."
   ]
  },
  {
   "cell_type": "code",
   "execution_count": null,
   "metadata": {},
   "outputs": [],
   "source": [
    "def suma(**kwargs):\n",
    "    s = 0\n",
    "    for key, value in kwargs.items():\n",
    "        print(key, \"=\", value)\n",
    "        s += value\n",
    "    return s\n",
    "    \n",
    "suma(a=3, b=10, c=3)\n",
    "#Salida\n",
    "#a = 3\n",
    "#b = 10\n",
    "#c = 3\n",
    "#16"
   ]
  },
  {
   "cell_type": "markdown",
   "metadata": {},
   "source": [
    "### **Funciones anónimas (lambda)**\n",
    "\n",
    "El término “función lambda” significa función anónima en Python. Para crear una función lambda, Python utiliza la palabra clave lambda. Una expresión lambda consiste en la palabra clave lambda seguida de una lista de argumentos, dos puntos y una única expresión (“expression”). En cuanto se llama la función lambda, se proporciona la expresión con los argumentos y se evalúa: lambda argument: expression"
   ]
  },
  {
   "cell_type": "code",
   "execution_count": null,
   "metadata": {},
   "outputs": [],
   "source": [
    "# Función Lambda para calcular el cuadrado de un número\n",
    "square = lambda x: x ** 2\n",
    "print(square(3)) # Resultado: 9\n",
    "\n",
    "# Funcion tradicional para calcular el cuadrado de un numero\n",
    "def square1(num):\n",
    "  return num ** 2\n",
    "print(square(5)) # Resultado: 25"
   ]
  },
  {
   "cell_type": "markdown",
   "metadata": {},
   "source": [
    "### **Funciones recursivas**\n",
    "\n",
    "Las funciones recursivas son funciones que se llaman a sí mismas durante su propia ejecución. Ellas funcionan de forma similar a las iteraciones, pero debe encargarse de planificar el momento en que dejan de llamarse a sí mismas o tendrá una función recursiva infinita.\n",
    "\n",
    "Estas funciones se estilan utilizar para dividir una tarea en sub-tareas más simples de forma que sea más fácil abordar el problema y solucionarlo."
   ]
  },
  {
   "cell_type": "code",
   "execution_count": null,
   "metadata": {},
   "outputs": [],
   "source": [
    "#Función recursiva sin retorno\n",
    "\n",
    "def cuenta_regresiva(numero):\n",
    "  numero -= 1\n",
    "  if numero > 0:\n",
    "       print(numero)\n",
    "       cuenta_regresiva(numero)\n",
    "  else:\n",
    "        print(\"¡Boooooooom!\")\n",
    "        print(\"Fin de la función\", numero)\n",
    "\n",
    "cuenta_regresiva(5)"
   ]
  },
  {
   "cell_type": "code",
   "execution_count": null,
   "metadata": {},
   "outputs": [],
   "source": [
    "#Función recursiva con retorno\n",
    "def factorial(numero):\n",
    "    print(\"Valor inicial ->\", numero)\n",
    "    if numero > 1:\n",
    "      numero = numero * factorial(numero - 1)\n",
    "    print(\"valor final ->\", numero)\n",
    "    return numero\n",
    "\n",
    "print(factorial(5))"
   ]
  },
  {
   "cell_type": "markdown",
   "metadata": {},
   "source": [
    "### **Generadores (yield)**\n",
    "\n",
    "Los Python generators son funciones especiales que devuelven un iterator en Python. La forma de crear Python generators es similar a la definición de una función normal. La diferencia está en los detalles: en lugar de una sentencia return, los generadores tienen una sentencia yield. Los generadores son especialmente adecuados para trabajar con grandes cantidades de datos. El siguiente programa permite leer un archivo CSV línea por línea de forma eficiente para la memoria:"
   ]
  },
  {
   "cell_type": "code",
   "execution_count": null,
   "metadata": {},
   "outputs": [],
   "source": [
    "def funcion_generadora():\n",
    "    for i in range(10):\n",
    "        yield i\n",
    "\n",
    "for item in funcion_generadora():\n",
    "    print(item)"
   ]
  },
  {
   "cell_type": "markdown",
   "metadata": {},
   "source": [
    "### **Closures y decoradores.**\n",
    "\n",
    "Un closure en Python es una función anidada que recuerda y accede a las variables de su función contenedora, incluso después de que esta función contenedora haya finalizado su ejecución. Esto significa que una función closure puede mantener su propio entorno y datos, lo que la convierte en una herramienta poderosa para el manejo de datos y la programación funcional en Python."
   ]
  },
  {
   "cell_type": "code",
   "execution_count": null,
   "metadata": {},
   "outputs": [],
   "source": [
    "def multiplicador(x): \n",
    "       def multiplicar(y): \n",
    "              return x * y \n",
    "       return multiplicar \n",
    "\n",
    "duplicar = multiplicador(2) \n",
    "triplicar = multiplicador(3) \n",
    "\n",
    "print(duplicar(5)) # Resultado: 10 \n",
    "print(triplicar(5)) # Resultado: 15"
   ]
  },
  {
   "cell_type": "markdown",
   "metadata": {},
   "source": [
    "Los decoradores son funciones que modifican el comportamiento de otras funciones, ayudan a acortar nuestro código y hacen que sea más Pythonic. Si alguna vez has visto @, estás ante un decorador o decorator, bien sea uno que Python ofrece por defecto o uno que puede haber sido creado ex profeso. Veamos un ejemplo muy sencillo. Tenemos una función suma() que vamos a decorar usando mi_decorador(). Para ello, antes de la declaración de la función suma, hacemos uso de @mi_decorador."
   ]
  },
  {
   "cell_type": "code",
   "execution_count": null,
   "metadata": {},
   "outputs": [],
   "source": [
    "def mi_decorador(funcion):\n",
    "    def nueva_funcion(a, b):\n",
    "        print(\"Se va a llamar\")\n",
    "        c = funcion(a, b)\n",
    "        print(\"Se ha llamado\")\n",
    "        return c\n",
    "    return nueva_funcion\n",
    "\n",
    "@mi_decorador\n",
    "def suma(a, b):\n",
    "    print(\"Entra en funcion suma\")\n",
    "    return a + b\n",
    "\n",
    "suma(5,8)\n",
    "\n",
    "# Se va a llamar\n",
    "# Entra en funcion suma\n",
    "# Se ha llamado"
   ]
  },
  {
   "cell_type": "markdown",
   "metadata": {},
   "source": [
    "## **3.3 Aplicación de Funciones en Problemas Reales**\n",
    "\n",
    "**Aplicación en estructuras de datos (listas, diccionarios)** \\\n",
    "**Uso de funciones en procesamiento de datos.** \\\n",
    "**Optimización del rendimiento con funciones.** \\\n",
    "**Comparación entre funciones definidas por el usuario y funciones integradas (len(), sum(), etc.).**\n",
    "\n",
    "\n",
    "Las estructuras de datos en Python son formas de organizar y almacenar datos de manera eficiente. Estos elementos son fundamentales para construir programas robustos y optimizar el rendimiento de tus algoritmos. Cada estructura de datos tiene sus propias características, ventajas y casos de uso específicos, lo que las hace más adecuadas para resolver determinados problemas.\n"
   ]
  },
  {
   "cell_type": "markdown",
   "metadata": {},
   "source": [
    "**Listas en Python**:\n",
    "Son probablemente la estructura de datos más utilizada. Son colecciones ordenadas y mutables de elementos, lo que las hace extremadamente flexibles y versátiles. "
   ]
  },
  {
   "cell_type": "code",
   "execution_count": 5,
   "metadata": {},
   "outputs": [
    {
     "name": "stdout",
     "output_type": "stream",
     "text": [
      "['Tomate', 'Lechuga', 'Queso', 'Pan', 'Carne', 'Pollo']\n"
     ]
    }
   ],
   "source": [
    "#Crear una lista de compras\n",
    "\n",
    "lista_de_compras = ['Tomate', 'Lechuga', 'Queso', 'Pan', 'Carne', 'Pollo']\n",
    "print(lista_de_compras)"
   ]
  },
  {
   "cell_type": "markdown",
   "metadata": {},
   "source": [
    "**Tuplas en Python:**\n",
    "Son estructuras de datos similares a las listas, pero con una diferencia fundamental: son inmutables. Esto significa que una vez creada, no puedes agregar, eliminar o modificar los elementos de una tupla."
   ]
  },
  {
   "cell_type": "code",
   "execution_count": 8,
   "metadata": {},
   "outputs": [
    {
     "name": "stdout",
     "output_type": "stream",
     "text": [
      "('Nombre', 'Apellidos', 'Numero de tarjeta', 'Fecha de Vencimiento', 'Codigo de Seguridad')\n"
     ]
    }
   ],
   "source": [
    "#Crear requisitos de una tarjeta de credito\n",
    "\n",
    "requisitos = ('Nombre', 'Apellidos', 'Numero de tarjeta', 'Fecha de Vencimiento', 'Codigo de Seguridad')\n",
    "\n",
    "print(requisitos)"
   ]
  },
  {
   "cell_type": "markdown",
   "metadata": {},
   "source": [
    "**Conjuntos en Python:**\n",
    "Son colecciones de elementos únicos, desordenados e inmutables. A diferencia de las listas y las tuplas, los conjuntos no permiten elementos duplicados."
   ]
  },
  {
   "cell_type": "code",
   "execution_count": 10,
   "metadata": {},
   "outputs": [
    {
     "name": "stdout",
     "output_type": "stream",
     "text": [
      "{1, 2, 3, 4, 5, 6, 7, 8, 9, 10, 11, 12, 13, 14, 15}\n"
     ]
    }
   ],
   "source": [
    "#crear lista de numeros para un bingo (no puede existir duplicados)\n",
    "\n",
    "numeros_loteria = {1,2,3,4,5,6,7,7,7,8,9,10,11,12,12,12,13,14,15}\n",
    "print(numeros_loteria)"
   ]
  },
  {
   "cell_type": "markdown",
   "metadata": {},
   "source": [
    "**Diccionarios en Python:** \n",
    "Los diccionarios en Python son una estructura que permite almacenar los elementos de una estructura de datos a los que se les da un nombre o clave (key). De esta forma, en vez de acceder al elemento del diccionario por medio del índice que ocupa, se accede a él por el nombre que tiene."
   ]
  },
  {
   "cell_type": "code",
   "execution_count": null,
   "metadata": {},
   "outputs": [
    {
     "name": "stdout",
     "output_type": "stream",
     "text": [
      "{'nombre': 'Juan', 'edad': 25, 'ciudad': 'Cartago'}\n"
     ]
    }
   ],
   "source": [
    "#crear un registro de estudiantes\n",
    "\n",
    "Estudiantes = {\"nombre\": \"Juan\", \"edad\": 25, \"ciudad\": \"Cartago\"}\n",
    "\n",
    "print(Estudiantes)"
   ]
  },
  {
   "cell_type": "markdown",
   "metadata": {},
   "source": [
    "Los lenguajes de programación utilizan los recursos que brinda el hardware del ordenador: la capacidad de codificar diferentes tipos de datos y la posibilidad de realizar sobre ellos operaciones aritméticas y lógicas.\n",
    "\n",
    "Las operaciones que el ordenador realiza de forma nativa son bastante elementales y no van mucho más allá de:\n",
    "\n",
    "1. La capacidad de realizar sumas, restas, multiplicaciones, divisiones y comparaciones.\n",
    "\n",
    "2. Controlar el flujo del programa modificando la ejecución secuencial de las sentencias mediante la utilización de condicionales y bucles.\n",
    "\n",
    "De manera que la realización de todo el resto de complicadas operaciones que sabemos que son capaces de realizar los programas de ordenador deben ser construidas a partir de esas operaciones básicas.\n",
    "\n",
    "Cuando utilizamos los operadores más sencillos en Python (suma, resta, etc.), el intérprete traduce los comandos de alto nivel dados por el programador y usa, casi directamente, las funcionalidades del hardware.\n",
    "\n",
    "Por tanto, a la hora de hacer operaciones más complejas, estas tienen que ser creadas a partir de esos bloques elementales implementando procedimientos más elaborados. Python y otros lenguajes ofrecen la posibilidad de agrupar estos bloques de instrucciones en forma de una función, para su posterior invocación de forma sencilla.\n",
    "\n",
    "**Ventajas del uso de funciones**\n",
    "\n",
    "Las funciones presentan dos beneficios importantes de los que se pueden derivar muchos otros:\n",
    "\n",
    "**Estructura:** es un recurso que permite descomponer una tarea compleja en varias subtareas de menor entidad, que puedan ser abordables con mayores garantías de éxito.\n",
    "\n",
    "**Abstracción:** las funciones ocultan detalles tras una interfaz pública bien definida. Se hace abstracción de los detalles de implementación y lo que interesa únicamente son los valores de entrada que se le suministran y los resultados que devuelve.\n",
    "\n",
    "A partir de estas dos características básicas, se derivan el resto de las ventajas que del uso de las funciones:\n",
    "\n",
    "Permiten reutilizar código sin tener que reescribirlo cada vez.\n",
    "\n",
    "•\tPosibilitan el encapsulamiento del código de la función. Así, por ejemplo, una vez dado por válido el código interno de una función, los errores de un programa no serán imputables a la implementación interna de la función. \\\n",
    "•\tLa implementación interna puede cambiar sin que el programador que use esas funciones tenga que preocuparse de ello.\\\n",
    "•\tHace que el código resultante sea más claro y mantenible.\\\n",
    "•\tLas funciones brindan el mecanismo para dividir un problema grande en subproblemas pequeños, acotando la interacción entre los mismos a los datos intercambiados a través de su interfaz pública.\\\n",
    "•\tEs el mecanismo ideal para permitir la colaboración entre varios programadores: una vez puestos de acuerdo en la interfaz, cada cual tiene la libertad de programar la solución a los subproblemas parciales sin temor a que le afecte lo hecho por otros programadores (siempre que el resultado facilitado sea el correcto).\n",
    "\n",
    "\n",
    "\n"
   ]
  },
  {
   "cell_type": "markdown",
   "metadata": {},
   "source": [
    "Las funciones se utilizan en programación para agrupar un conjunto de instrucciones que quieres utilizar repetidamente o que, debido a su complejidad, es mejor que estén contenidas en un subprograma y que se invoquen cuando sea necesario. Eso significa que una función es un fragmento de código escrito para realizar una tarea determinada. Para llevar a cabo esa tarea específica, la función puede necesitar o no varias entradas. Cuando se realiza la tarea, la función puede o no devolver uno o más valores.\n",
    "\n",
    "En Python hay tres tipos de funciones:\n",
    "\n",
    "**Funciones integradas**, como help() para pedir ayuda, min() para obtener el valor mínimo, print() para imprimir un objeto en el terminal... Tienes un resumen con más funciones de este tipo aquí.\\\n",
    "**Funciones definidas** por el usuario (UDF), que son funciones que los usuarios crean para que les sirvan de ayuda.\\\n",
    "**Funciones anónimas**, que también se llaman funciones lambda, porque no se declaran con la palabra clave estándar def"
   ]
  },
  {
   "cell_type": "markdown",
   "metadata": {},
   "source": [
    "## <mark>**Sección 3: Conclusiones**<mark>\n"
   ]
  },
  {
   "cell_type": "markdown",
   "metadata": {},
   "source": [
    " Sin duda alguna esta investigación me ha permitido entender verdaderamente el uso que puede tener una herramienta como Pyhon en día a día. Python ahora mismo puede ser involucrado en distintos trabajos y áreas gracias a la versatilidad de sus funciones, sin duda alguna es un reto el poder llevar toda esta teoría y lograr aplicarlo en la práctica de una manera correcta.\n",
    "\n",
    " Peronalmente considero que Python, tanto con sus funciones y diferentes usos me van a permitit desarrollar una mejor carrear profesional, al tener esta nueva habilidad de poder implementar Python en distintos proyectos. Si bien es cierto Python es un lenguaje que en comparación con otros puede ser más sencillo, si considero que es una herramienta que para lograr sacar todo el provecho deseado si es necesario su constante práctica y desarrllo.\n",
    "\n",
    " **Referencias**\n",
    "\n",
    "Business School Madrid. (16 de Abril de 2024). Obtenido de https://www.eaemadrid.com/es/importancia-lenguajes-sql-python-ciencia-datos \\\n",
    "Bustamante, S. J. (s.f.). freeCodeCamp. Obtenido de https://www.freecodecamp.org/espanol/news/guia-de-funciones-de-python-con-ejemplos/ \\\n",
    "Clear as Data. (s.f.). Clear as Data. Obtenido de https://www.datacamp.com/es/tutorial/functions-python-tutorial \\\n",
    "Digital House. (24 de Junio de 2024). Obtenido de https://www.digitalhouse.com/blog/ python-desde-cero-que-son-las-estructuras-de-datos-en-python/ \\\n",
    "El Librio de Python. (s.f.). Obtenido de https://ellibrodepython.com/args-kwargs-python \\\n",
    "Escuela de Ingenierias Industriales. (s.f.). Escuela de Ingenierias Industriales. Obtenido de https://www2.eii.uva.es/fund_inf/python/notebooks/08_Funciones/Funciones.html \\\n",
    "Keepcoding. (s.f.). Obtenido de https://keepcoding.io/blog/modularizar-el-codigo-en-python/ \\\n",
    "Programación en Python - Nivel básico. (s.f.). Obtenido de https://entrenamiento-python-basico.readthedocs.io/es/3.7/leccion5/funciones_recursivas.html \\\n",
    "Python Intermedio. (s.f.). Obtenido de https://python-intermedio.readthedocs.io/es/latest/generators.html \\\n",
    "\n"
   ]
  }
 ],
 "metadata": {
  "kernelspec": {
   "display_name": "Python 3",
   "language": "python",
   "name": "python3"
  },
  "language_info": {
   "codemirror_mode": {
    "name": "ipython",
    "version": 3
   },
   "file_extension": ".py",
   "mimetype": "text/x-python",
   "name": "python",
   "nbconvert_exporter": "python",
   "pygments_lexer": "ipython3",
   "version": "3.13.1"
  }
 },
 "nbformat": 4,
 "nbformat_minor": 2
}
