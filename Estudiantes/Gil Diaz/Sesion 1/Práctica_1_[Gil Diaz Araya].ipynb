{
 "cells": [
  {
   "cell_type": "code",
   "execution_count": 8,
   "metadata": {},
   "outputs": [
    {
     "name": "stdout",
     "output_type": "stream",
     "text": [
      "5000 dolares equivalen a 2530000 colones\n"
     ]
    }
   ],
   "source": [
    "#2.\tConvertir la cantidad de dólares ingresados por un usuario a colones y mostrar el resultado en pantalla. \n",
    "\n",
    "Cantidad_dolares = int(input(\"Ingrese cantidad de dolares\"))\n",
    "Tipo_cambio_venta = 506\n",
    "\n",
    "cantidad_colones = Cantidad_dolares * Tipo_cambio_venta\n",
    "\n",
    "print(Cantidad_dolares, 'dolares equivalen a', cantidad_colones, 'colones')"
   ]
  },
  {
   "cell_type": "code",
   "execution_count": 6,
   "metadata": {},
   "outputs": [
    {
     "name": "stdout",
     "output_type": "stream",
     "text": [
      "Un lustro tiene 157680000 segundos\n"
     ]
    }
   ],
   "source": [
    "#4.\tMostrar en pantalla la cantidad de segundos que tiene un lustro.\n",
    "\n",
    "segundos = 60\n",
    "hora = (60 * segundos)\n",
    "dia = 24 * hora\n",
    "año = 365 * dia\n",
    "lustro = 5 * año\n",
    "print(f'Un lustro tiene', lustro, 'segundos')"
   ]
  },
  {
   "cell_type": "code",
   "execution_count": 14,
   "metadata": {},
   "outputs": [
    {
     "name": "stdout",
     "output_type": "stream",
     "text": [
      "True\n"
     ]
    }
   ],
   "source": [
    "#8.\tMostrar en pantalla True o False si la edad ingresada por dos usuarios es la misma\n",
    "\n",
    "edad1 = int(input('Ingrese la primer edad'))\n",
    "edad2 = int(input('Ingrese la segunda edad'))\n",
    "\n",
    "resultado = edad1 == edad2\n",
    "\n",
    "print(resultado) "
   ]
  },
  {
   "cell_type": "code",
   "execution_count": 3,
   "metadata": {},
   "outputs": [
    {
     "name": "stdout",
     "output_type": "stream",
     "text": [
      "[50, 50, 50, 50, 10, 20, 30, 40, 50]\n"
     ]
    }
   ],
   "source": [
    "my_numbers = [10, 20, 30, 40, 50]\n",
    "\n",
    "for i in range(4):\n",
    "    my_numbers.insert(i, my_numbers[-1])\n",
    "\n",
    "print(my_numbers)\n",
    "\n"
   ]
  }
 ],
 "metadata": {
  "kernelspec": {
   "display_name": "Python 3",
   "language": "python",
   "name": "python3"
  },
  "language_info": {
   "codemirror_mode": {
    "name": "ipython",
    "version": 3
   },
   "file_extension": ".py",
   "mimetype": "text/x-python",
   "name": "python",
   "nbconvert_exporter": "python",
   "pygments_lexer": "ipython3",
   "version": "3.13.1"
  }
 },
 "nbformat": 4,
 "nbformat_minor": 2
}
